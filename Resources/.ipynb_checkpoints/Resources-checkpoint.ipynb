{
 "cells": [
  {
   "cell_type": "code",
   "execution_count": 1,
   "id": "35e1287e-8cca-425b-ab47-5a6179f95406",
   "metadata": {},
   "outputs": [],
   "source": [
    "# Data resources used for project:\n",
    "\n",
    "# https://www.kaggle.com/adarshkumarjha/bank-customer-retirement\n",
    "\n",
    "# https://www.kaggle.com/debdutta/cost-of-living-index-by-country\n",
    "\n",
    "# https://www.numbeo.com/cost-of-living/region_prices_by_city?itemId=101&itemId=100&itemId=228&itemId=224&itemId=60&itemId=66&itemId=64&itemId=62&itemId=110&itemId=118&itemId=121&itemId=14&itemId=19&itemId=17&itemId=15&itemId=11&itemId=16&itemId=113&itemId=9&itemId=12&itemId=8&itemId=119&itemId=111&itemId=112&itemId=115&itemId=116&itemId=13&itemId=27&itemId=26&itemId=29&itemId=28&itemId=114&itemId=6&itemId=4&itemId=5&itemId=3&itemId=2&itemId=1&itemId=7&itemId=105&itemId=106&itemId=44&itemId=40&itemId=42&itemId=24&itemId=20&itemId=18&itemId=109&itemId=108&itemId=107&itemId=206&itemId=25&itemId=32&itemId=30&itemId=33&region=021&displayCurrency=USD\n"
   ]
  },
  {
   "cell_type": "code",
   "execution_count": 2,
   "id": "44e7d45e-260c-4957-8678-34ff3c7139f8",
   "metadata": {},
   "outputs": [],
   "source": [
    "# Other resources used for project:\n",
    "\n",
    "# https://www.pwc.com/us/en/services/consulting/workforce-of-the-future/library/financial-well-being-retirement-survey.html\n",
    "\n",
    "# https://www.census.gov/quickfacts/fact/table/CA,FL,NY,TX/PST045219\n",
    "\n",
    "# https://howmuch.net/articles/cost-comfortable-retirement-america\n",
    "\n",
    "# https://www.cnbc.com/2020/01/23/heres-how-much-americans-have-saved-for-retirement-at-different-ages.html\n",
    "\n",
    "# https://www.fool.com/retirement/2019/05/20/the-shocking-number-of-americans-without-a-retirem.aspx"
   ]
  },
  {
   "cell_type": "code",
   "execution_count": null,
   "id": "0f393d75-9235-4bf8-8205-211e03f240ed",
   "metadata": {},
   "outputs": [],
   "source": []
  }
 ],
 "metadata": {
  "kernelspec": {
   "display_name": "Python 3",
   "language": "python",
   "name": "python3"
  },
  "language_info": {
   "codemirror_mode": {
    "name": "ipython",
    "version": 3
   },
   "file_extension": ".py",
   "mimetype": "text/x-python",
   "name": "python",
   "nbconvert_exporter": "python",
   "pygments_lexer": "ipython3",
   "version": "3.8.5"
  }
 },
 "nbformat": 4,
 "nbformat_minor": 5
}
