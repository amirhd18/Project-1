{
 "cells": [
  {
   "cell_type": "code",
   "execution_count": 222,
   "id": "da2deda5-18d5-470d-a776-aceb41241788",
   "metadata": {},
   "outputs": [],
   "source": [
    "import pandas as pd\n",
    "from pathlib import Path\n",
    "import hvplot.pandas\n",
    "import numpy as np\n",
    "import ipywidgets\n",
    "from ipywidgets import interact"
   ]
  },
  {
   "cell_type": "code",
   "execution_count": 230,
   "id": "516d8ff0-e607-4e4c-b1a2-f2caf5a86a4e",
   "metadata": {},
   "outputs": [],
   "source": [
    "bank_path = Path(\"c:/Users/amirh/Project-1/Data/Raw/Bank_Customer_retirement.csv\")"
   ]
  },
  {
   "cell_type": "code",
   "execution_count": 231,
   "id": "e4293503-c4c6-4eb4-ba6f-bc24e509dcbb",
   "metadata": {},
   "outputs": [],
   "source": [
    "retirement_data = pd.read_csv(bank_path)"
   ]
  },
  {
   "cell_type": "code",
   "execution_count": 232,
   "id": "126e5581-184a-4563-9ae0-9a9480f017fb",
   "metadata": {},
   "outputs": [],
   "source": [
    "retirement_data=retirement_data.drop(columns=[\"Customer ID\",\"Retire\"])"
   ]
  },
  {
   "cell_type": "code",
   "execution_count": 233,
   "id": "0f478015-f543-4a7d-9f4c-393c3bcd1ec9",
   "metadata": {},
   "outputs": [],
   "source": [
    "retirement_data= retirement_data.astype(int)"
   ]
  },
  {
   "cell_type": "code",
   "execution_count": 234,
   "id": "88339f11-2f8b-4024-8bf3-12b89d971907",
   "metadata": {},
   "outputs": [],
   "source": [
    "retirement_data_sorted= retirement_data.sort_values(by='Age')"
   ]
  },
  {
   "cell_type": "code",
   "execution_count": 240,
   "id": "486e7336-fd71-4d6e-b526-c676d67c11bb",
   "metadata": {},
   "outputs": [],
   "source": [
    "retirement_data_sorted=retirement_data_sorted.reset_index()"
   ]
  },
  {
   "cell_type": "code",
   "execution_count": 242,
   "id": "048a2f03-8649-47ad-bf23-0c7042beba90",
   "metadata": {},
   "outputs": [],
   "source": [
    "retirement_data_sorted.drop(columns=['index'], inplace=True)"
   ]
  },
  {
   "cell_type": "code",
   "execution_count": 243,
   "id": "4e218c37-d4ee-49ec-98e0-d53a4e7e573e",
   "metadata": {},
   "outputs": [
    {
     "data": {
      "text/html": [
       "<div>\n",
       "<style scoped>\n",
       "    .dataframe tbody tr th:only-of-type {\n",
       "        vertical-align: middle;\n",
       "    }\n",
       "\n",
       "    .dataframe tbody tr th {\n",
       "        vertical-align: top;\n",
       "    }\n",
       "\n",
       "    .dataframe thead th {\n",
       "        text-align: right;\n",
       "    }\n",
       "</style>\n",
       "<table border=\"1\" class=\"dataframe\">\n",
       "  <thead>\n",
       "    <tr style=\"text-align: right;\">\n",
       "      <th></th>\n",
       "      <th>Age</th>\n",
       "      <th>401K Savings</th>\n",
       "    </tr>\n",
       "  </thead>\n",
       "  <tbody>\n",
       "    <tr>\n",
       "      <th>0</th>\n",
       "      <td>25</td>\n",
       "      <td>430374</td>\n",
       "    </tr>\n",
       "    <tr>\n",
       "      <th>1</th>\n",
       "      <td>25</td>\n",
       "      <td>309960</td>\n",
       "    </tr>\n",
       "    <tr>\n",
       "      <th>2</th>\n",
       "      <td>26</td>\n",
       "      <td>284409</td>\n",
       "    </tr>\n",
       "    <tr>\n",
       "      <th>3</th>\n",
       "      <td>29</td>\n",
       "      <td>331381</td>\n",
       "    </tr>\n",
       "    <tr>\n",
       "      <th>4</th>\n",
       "      <td>30</td>\n",
       "      <td>459592</td>\n",
       "    </tr>\n",
       "  </tbody>\n",
       "</table>\n",
       "</div>"
      ],
      "text/plain": [
       "   Age  401K Savings\n",
       "0   25        430374\n",
       "1   25        309960\n",
       "2   26        284409\n",
       "3   29        331381\n",
       "4   30        459592"
      ]
     },
     "execution_count": 243,
     "metadata": {},
     "output_type": "execute_result"
    }
   ],
   "source": [
    "retirement_data_sorted.head()"
   ]
  },
  {
   "cell_type": "code",
   "execution_count": 244,
   "id": "a61b05f9-bda9-497f-86cf-343058e40a61",
   "metadata": {},
   "outputs": [],
   "source": [
    "bins = [20, 29, 39, 49, 67, 100]\n",
    "labels =[\"20's\", \"30's\", \"40's\",'50-67', '67+']"
   ]
  },
  {
   "cell_type": "code",
   "execution_count": 251,
   "id": "c3ee71da-8dbc-4dcb-9b6d-6355d7b1aa5b",
   "metadata": {},
   "outputs": [],
   "source": [
    "retirement_data_sorted['Groups'] = pd.cut(retirement_data_sorted['Age'], bins=bins, labels=labels)"
   ]
  },
  {
   "cell_type": "code",
   "execution_count": 253,
   "id": "fd8ae3af-139e-490f-9669-337693bb0e83",
   "metadata": {},
   "outputs": [
    {
     "data": {
      "text/html": [
       "<div>\n",
       "<style scoped>\n",
       "    .dataframe tbody tr th:only-of-type {\n",
       "        vertical-align: middle;\n",
       "    }\n",
       "\n",
       "    .dataframe tbody tr th {\n",
       "        vertical-align: top;\n",
       "    }\n",
       "\n",
       "    .dataframe thead th {\n",
       "        text-align: right;\n",
       "    }\n",
       "</style>\n",
       "<table border=\"1\" class=\"dataframe\">\n",
       "  <thead>\n",
       "    <tr style=\"text-align: right;\">\n",
       "      <th></th>\n",
       "      <th>Age</th>\n",
       "      <th>401K Savings</th>\n",
       "      <th>Groups</th>\n",
       "    </tr>\n",
       "  </thead>\n",
       "  <tbody>\n",
       "    <tr>\n",
       "      <th>0</th>\n",
       "      <td>25</td>\n",
       "      <td>430374</td>\n",
       "      <td>20's</td>\n",
       "    </tr>\n",
       "    <tr>\n",
       "      <th>1</th>\n",
       "      <td>25</td>\n",
       "      <td>309960</td>\n",
       "      <td>20's</td>\n",
       "    </tr>\n",
       "    <tr>\n",
       "      <th>2</th>\n",
       "      <td>26</td>\n",
       "      <td>284409</td>\n",
       "      <td>20's</td>\n",
       "    </tr>\n",
       "    <tr>\n",
       "      <th>3</th>\n",
       "      <td>29</td>\n",
       "      <td>331381</td>\n",
       "      <td>20's</td>\n",
       "    </tr>\n",
       "    <tr>\n",
       "      <th>4</th>\n",
       "      <td>30</td>\n",
       "      <td>459592</td>\n",
       "      <td>30's</td>\n",
       "    </tr>\n",
       "  </tbody>\n",
       "</table>\n",
       "</div>"
      ],
      "text/plain": [
       "   Age  401K Savings Groups\n",
       "0   25        430374   20's\n",
       "1   25        309960   20's\n",
       "2   26        284409   20's\n",
       "3   29        331381   20's\n",
       "4   30        459592   30's"
      ]
     },
     "execution_count": 253,
     "metadata": {},
     "output_type": "execute_result"
    }
   ],
   "source": [
    "retirement_data_sorted.head()"
   ]
  },
  {
   "cell_type": "code",
   "execution_count": 254,
   "id": "6a73c2a4-d8b8-41be-a2b1-45fded432c3f",
   "metadata": {},
   "outputs": [],
   "source": [
    "retirement_group_data = sorted(retirement_data_sorted.Groups.unique().tolist())"
   ]
  },
  {
   "cell_type": "code",
   "execution_count": 269,
   "id": "8909e40a-b95e-4983-8cf2-4155a53dd1d8",
   "metadata": {},
   "outputs": [
    {
     "data": {
      "application/vnd.jupyter.widget-view+json": {
       "model_id": "c685ae5999264d77aa0dd6399f5b5a1d",
       "version_major": 2,
       "version_minor": 0
      },
      "text/plain": [
       "interactive(children=(Dropdown(description='Groups', options=(\"20's\", \"30's\", \"40's\", '50-67', '67+'), value=\"…"
      ]
     },
     "metadata": {},
     "output_type": "display_data"
    },
    {
     "data": {
      "text/plain": [
       "<function __main__.account_comparison(Groups)>"
      ]
     },
     "execution_count": 269,
     "metadata": {},
     "output_type": "execute_result"
    }
   ],
   "source": [
    "def account_comparison(Groups):\n",
    "    df = retirement_data_sorted[retirement_data_sorted['Groups'] == Groups]\n",
    "    chart = df.hvplot(x='Age', \n",
    "                     y='401K Savings', \n",
    "                     kind='scatter').opts(fontscale=1, width=800, height=500, title='401K Balances by Group')\n",
    "    return chart\n",
    "\n",
    "interact(account_comparison, Groups=retirement_group_data)"
   ]
  },
  {
   "cell_type": "code",
   "execution_count": null,
   "id": "35eb6068-1375-4c69-9e31-981f88146940",
   "metadata": {},
   "outputs": [],
   "source": []
  }
 ],
 "metadata": {
  "kernelspec": {
   "display_name": "pyvizenv",
   "language": "python",
   "name": "pyvizenv"
  },
  "language_info": {
   "codemirror_mode": {
    "name": "ipython",
    "version": 3
   },
   "file_extension": ".py",
   "mimetype": "text/x-python",
   "name": "python",
   "nbconvert_exporter": "python",
   "pygments_lexer": "ipython3",
   "version": "3.7.0"
  }
 },
 "nbformat": 4,
 "nbformat_minor": 5
}
